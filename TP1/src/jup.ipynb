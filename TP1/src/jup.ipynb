{
 "cells": [
  {
   "cell_type": "markdown",
   "metadata": {
    "collapsed": true,
    "pycharm": {
     "name": "#%% md\n"
    }
   },
   "source": [
    "# Ejercicio 1\n",
    "\n",
    "La proporción de oyentes se compone por un 90% de viejos y 10% de jovenes.\n",
    "\n",
    "Tabla de probabilidades condicionadas ( P(Columna | Fila) ):\n",
    "\n",
    "| --- | Programa 1 | Programa 2 | Programa 3 | Programa 4 |\n",
    "| --- | --- | --- | --- | --- |\n",
    "| Joven | 0.95 | 0.05 | 0.02 | 0.2 |\n",
    "| Viejo | 0.03 | 0.82 | 0.34 | 0.92 |\n",
    "\n",
    "Representamos los eventos de la siguiente forma:\n",
    "- J: el oyente es joven\n",
    "- V: el oyente es viejo\n",
    "- Gi: al oyente le gusta el programa i\n",
    "***\n",
    "Queremos encontrar la probabilidad de que sea joven dado que le gustan los programas 1 y 3, y no le gustan los programas 2 y 4. Es decir:\n",
    "<br><br>\n",
    "P(J | G1, G3, !G2, !G4)\n",
    "<br><br>\n",
    "Por el teorema de Bayes obtenemos que:\n",
    "<br><br>\n",
    "P(J | G1, G3, !G2, !G4) = P(G1, G3, !G2, !G4 | J).P(J) / P(G1, G3, !G2, !G4)\n",
    "<br><br>\n",
    "Y si asumimos independencia condicionada entre sucesos y aplicando el teorema de probabilidad total en el denominador:\n",
    "<br><br>\n",
    "P(J | G1, G3, !G2, !G4) = P(G1|J).P(G3|J).P(!G2|J).P(!G4|J).P(J) / (P(G1, G3, !G2, !G4 | J).P(J) + P(G1, G3, !G2, !G4 | V).P(V))\n",
    "<br><br>\n",
    "Finalmente, utilizando los datos del enunciado:\n",
    "<br><br>\n",
    "P(J | G1, G3, !G2, !G4) = 0.92\n",
    "***\n",
    "Ahora queremos encontrar la probabilidad de que el oyente sea viejo dado los mismos gustos. Es decir:\n",
    "<br><br>\n",
    "P(V | G1, G3, !G2, !G4)\n",
    "<br><br>\n",
    "Considerando que el oyente o es viejo o es joven:\n",
    "<br><br>\n",
    "P(V | G1, G3, !G2, !G4) = P(!J | G1, G3, !G2, !G4) = 1 - P(J | G1, G3, !G2, !G4) = 0.08"
   ]
  },
  {
   "cell_type": "markdown",
   "source": [
    "# Ejercicio 2\n",
    "\n",
    "Calculamos para todo \\begin{equation*} v_j \\end{equation*}\n",
    "\n",
    "\\begin{equation*}\n",
    "\\prod_{i = 1}^{n} P(x_i | v_j) * P(v_j)\n",
    "\\end{equation*}\n",
    "\n",
    "y tomamos el máximo valor calculado, la categoría correspondiente a ese valro será la que retorna el clasificador"
   ],
   "metadata": {
    "collapsed": false
   }
  },
  {
   "cell_type": "markdown",
   "source": [
    "Importamos las librerias"
   ],
   "metadata": {
    "collapsed": false,
    "pycharm": {
     "name": "#%% md\n"
    }
   }
  },
  {
   "cell_type": "code",
   "execution_count": 1,
   "outputs": [],
   "source": [
    "import pandas as pd\n",
    "from TP1.src.Ej2 import divide_by_nationality\n",
    "from TP1.src.NaiveBayes import NaiveBayes"
   ],
   "metadata": {
    "collapsed": false,
    "pycharm": {
     "name": "#%%\n",
     "is_executing": false
    }
   }
  },
  {
   "cell_type": "markdown",
   "source": [
    "Leemos los datos y los dividimos por nacionalidad"
   ],
   "metadata": {
    "collapsed": false,
    "pycharm": {
     "name": "#%% md\n"
    }
   }
  },
  {
   "cell_type": "code",
   "execution_count": 2,
   "outputs": [],
   "source": [
    "data = pd.read_excel('../PreferenciasBritanicos.xlsx', sheet_name='Hoja1', )\n",
    "\n",
    "britanicos = divide_by_nationality(data, 'I')\n",
    "escocesas = divide_by_nationality(data, 'E')\n",
    "\n",
    "datasets = [britanicos, escocesas]"
   ],
   "metadata": {
    "collapsed": false,
    "pycharm": {
     "name": "#%%\n",
     "is_executing": false
    }
   }
  },
  {
   "cell_type": "markdown",
   "source": [
    "Entrenamos Bayes"
   ],
   "metadata": {
    "collapsed": false,
    "pycharm": {
     "name": "#%% md\n"
    }
   }
  },
  {
   "cell_type": "code",
   "execution_count": 3,
   "outputs": [],
   "source": [
    "nb = NaiveBayes()\n",
    "nb.train(datasets)"
   ],
   "metadata": {
    "collapsed": false,
    "pycharm": {
     "name": "#%%\n",
     "is_executing": false
    }
   }
  },
  {
   "cell_type": "markdown",
   "source": [
    "Buscamos la nacionalidad con las caracteristicas solicitadas"
   ],
   "metadata": {
    "collapsed": false,
    "pycharm": {
     "name": "#%% md\n"
    }
   }
  },
  {
   "cell_type": "code",
   "execution_count": 4,
   "outputs": [
    {
     "name": "stdout",
     "text": [
      "Es de Nacionalidad :E\n"
     ],
     "output_type": "stream"
    }
   ],
   "source": [
    "category = nb.calculate_category([1, 0, 1, 1, 0])\n",
    "\n",
    "print(\"Es de Nacionalidad :\" + str(datasets[category]['Nacionalidad'].values[0]))"
   ],
   "metadata": {
    "collapsed": false,
    "pycharm": {
     "name": "#%%\n",
     "is_executing": false
    }
   }
  },
  {
   "cell_type": "markdown",
   "source": [
    "# Código de entrenamiento\n",
    "    def train(self, datasets, possible_values=None):\n",
    "        self.datasets = datasets\n",
    "        self.probabilities = []\n",
    "        self.general_probabilities = []\n",
    "        # Para cada conjunto\n",
    "        for dataset in datasets:\n",
    "            probabilities = []\n",
    "            # Por cada propiedad\n",
    "            for i in range(0, len(dataset.columns)):\n",
    "\n",
    "                # Inicializamos las probabilidades locales\n",
    "                if possible_values is None:\n",
    "                    occurrences_map = {0: 0, 1: 0}\n",
    "                else:\n",
    "                    occurrences_map = {}\n",
    "                    if isinstance(possible_values[0], list):\n",
    "                        for value in possible_values[i]:\n",
    "                            occurrences_map[value] = 0\n",
    "                    else:\n",
    "                        for value in possible_values:\n",
    "                            occurrences_map[value] = 0\n",
    "\n",
    "                # Sumamos las ocurrencias en la columna\n",
    "                for item in dataset[dataset.columns[i]]:\n",
    "                    if item in occurrences_map:\n",
    "                        occurrences_map[item] += 1\n",
    "                    else:\n",
    "                        occurrences_map[item] = 1\n",
    "\n",
    "                # Sumamos las ocurrencias generales\n",
    "                self.sum_general_probabilities(occurrences_map, i)\n",
    "\n",
    "                # Calculamos la probabilidad\n",
    "                for key in occurrences_map.keys():\n",
    "                    occurrences_map[key] = (occurrences_map[key] + 1) / (len(dataset) + len(occurrences_map.keys()))\n",
    "\n",
    "                # Lo agrego a las probabilidades del dataset\n",
    "                probabilities.append(occurrences_map)\n",
    "\n",
    "            # Lo agrego a las probabilidades de los datasets\n",
    "            self.probabilities.append(probabilities)\n",
    "\n",
    "        # Calculo las probabilidades generales\n",
    "        for column_map in self.general_probabilities:\n",
    "            for key in column_map:\n",
    "                column_map[key] = column_map[key] / len_datasets(datasets)\n",
    "\n",
    "# Código para determinar la categoría\n",
    "\n",
    "    def calculate_category(self, to_analize):\n",
    "        results = []\n",
    "        # Por cada dataset\n",
    "        for j in range(0, len(self.probabilities)):\n",
    "            probability = self.probabilities[j]\n",
    "            result = 1\n",
    "            # Productoria de probabilidades\n",
    "            for i in range(0, len(to_analize)):\n",
    "                property_dict = probability[i]\n",
    "                result *= property_dict[to_analize[i]]\n",
    "\n",
    "            # Multiplico por la probabilidad que pertenezca al dataset\n",
    "            result *= len(self.datasets[j]) / len_datasets(self.datasets)\n",
    "            results.append(result)\n",
    "\n",
    "        # Tomo el maximo\n",
    "        return results.index(max(results))\n"
   ],
   "metadata": {
    "collapsed": false
   }
  },
  {
   "cell_type": "markdown",
   "metadata": {
    "pycharm": {
     "name": "#%% md\n"
    }
   },
   "source": [
    "# Ejercicio 3\n",
    "\n",
    "Importamos el dataset y librerias."
   ]
  },
  {
   "cell_type": "code",
   "execution_count": 5,
   "outputs": [],
   "source": [
    "from TP1.src.Ej3 import add_columns_from_text, get_categories, separate_in_categories, confusion_matrix, get_metrics, \\\n",
    "    invert_dict, roc_curve\n",
    "import pandas as pd\n",
    "from TP1.src.NaiveBayes import NaiveBayes\n",
    "\n",
    "df = pd.read_csv('../dataset/Noticias_argentinas.csv', nrows=1000)\n",
    "\n",
    "df = df[['titular', 'categoria']]"
   ],
   "metadata": {
    "collapsed": false,
    "pycharm": {
     "name": "#%%\n",
     "is_executing": false
    }
   }
  },
  {
   "cell_type": "markdown",
   "source": [
    "A partir de los titulares generamos una matriz donde sus columnas son las palabras que se utilizaron\n",
    " para escribir todos los titulares del dataset. Es decir la union de los conjuntos de palabras utilizados para cada\n",
    " titular.\n",
    "\n",
    " Las filas de la matriz serán cada una de las noticias (igual que antes) y el valor que tomarán para cada\n",
    " columna será 1 si la palabra de la columna aparece en el titular de esta noticia y 0 en el caso de que no aparezca."
   ],
   "metadata": {
    "collapsed": false,
    "pycharm": {
     "name": "#%% md\n"
    }
   }
  },
  {
   "cell_type": "code",
   "execution_count": 6,
   "outputs": [
    {
     "name": "stdout",
     "text": [
      "                                               titular categoria  \\\n0    Trabajadores del Buenos Aires Design cortan la...  Nacional   \n1    La boda del gobernador Gerardo Morales: tapas ...  Nacional   \n2    Cumbre del G20: qué calles estarán cortadas y ...  Nacional   \n3    Una fractura que confirma la candidatura de Cr...  Nacional   \n4    Infierno grande: ola de divorcios en un pueblo...  Nacional   \n..                                                 ...       ...   \n995  Que de la mano de Maradona, todos la vuelta va...  Deportes   \n996         El Halcón y el Pincha completan su partido  Deportes   \n997  El enojo de Lionel Scaloni con un periodista e...  Deportes   \n998          Los entrenadores de River con más títulos  Deportes   \n999  El fuerte mensaje de Migue Granados para fomen...     Salud   \n\n     trabajadores  del  buenos  aires  design  cortan  la  avenida  ...  \\\n0               1    1       1      1       1       1   1        1  ...   \n1               0    1       0      0       0       0   1        0  ...   \n2               0    1       0      0       0       0   0        0  ...   \n3               0    0       0      0       0       0   1        0  ...   \n4               0    0       0      0       0       0   0        0  ...   \n..            ...  ...     ...    ...     ...     ...  ..      ...  ...   \n995             0    0       0      0       0       0   1        0  ...   \n996             0    0       0      0       0       0   0        0  ...   \n997             0    0       0      0       0       0   0        0  ...   \n998             0    0       0      0       0       0   0        0  ...   \n999             0    1       0      0       0       0   1        0  ...   \n\n     volvieron  caer  mano  vuelta  vamos  dar'  halcón  pincha  completan  \\\n0            0     0     0       0      0      0       0       0          0   \n1            0     0     0       0      0      0       0       0          0   \n2            0     0     0       0      0      0       0       0          0   \n3            0     0     0       0      0      0       0       0          0   \n4            0     0     0       0      0      0       0       0          0   \n..         ...   ...   ...     ...    ...    ...     ...     ...        ...   \n995          0     0     1       1      1      1       0       0          0   \n996          0     0     0       0      0      0       1       1          1   \n997          0     0     0       0      0      0       0       0          0   \n998          0     0     0       0      0      0       0       0          0   \n999          0     0     0       0      0      0       0       0          0   \n\n     entrenadores  \n0               0  \n1               0  \n2               0  \n3               0  \n4               0  \n..            ...  \n995             0  \n996             0  \n997             0  \n998             1  \n999             0  \n\n[1000 rows x 3225 columns]\n"
     ],
     "output_type": "stream"
    }
   ],
   "source": [
    "\n",
    "df = add_columns_from_text(df)\n",
    "print(df)"
   ],
   "metadata": {
    "collapsed": false,
    "pycharm": {
     "name": "#%%\n",
     "is_executing": false
    }
   }
  },
  {
   "cell_type": "markdown",
   "source": [
    "Obtenemos las 4 categorias que vamos a clasificar."
   ],
   "metadata": {
    "collapsed": false,
    "pycharm": {
     "name": "#%% md\n"
    }
   }
  },
  {
   "cell_type": "code",
   "execution_count": 7,
   "outputs": [],
   "source": [
    "categories = get_categories(df)[0:4]"
   ],
   "metadata": {
    "collapsed": false,
    "pycharm": {
     "name": "#%%\n",
     "is_executing": false
    }
   }
  },
  {
   "cell_type": "markdown",
   "source": [
    "Separamos el dataset en training y test data."
   ],
   "metadata": {
    "collapsed": false,
    "pycharm": {
     "name": "#%% md\n"
    }
   }
  },
  {
   "cell_type": "code",
   "source": [
    "train = df.sample(frac=0.8)\n",
    "test = df.drop(train.index)"
   ],
   "metadata": {
    "collapsed": false,
    "pycharm": {
     "name": "#%%\n",
     "is_executing": false
    }
   },
   "execution_count": 8,
   "outputs": []
  },
  {
   "cell_type": "markdown",
   "source": [
    "Particionamos los dataframes en categorias y luego eliminamos las columnas innecesarias."
   ],
   "metadata": {
    "collapsed": false,
    "pycharm": {
     "name": "#%% md\n"
    }
   }
  },
  {
   "cell_type": "code",
   "execution_count": 9,
   "outputs": [],
   "source": [
    "train_datasets = separate_in_categories(train, categories)\n",
    "test_datasets = separate_in_categories(test, categories)\n",
    "\n",
    "train_datasets = [df.drop(columns=['titular', 'categoria']) for df in train_datasets]\n",
    "test_datasets = [df.drop(columns=['titular', 'categoria']) for df in test_datasets]"
   ],
   "metadata": {
    "collapsed": false,
    "pycharm": {
     "name": "#%%\n",
     "is_executing": false
    }
   }
  },
  {
   "cell_type": "markdown",
   "source": [
    "Creamos una instancia de nuestra implementación de Naive Bayes y entrenamos con nuestro dataset de entrenamiento."
   ],
   "metadata": {
    "collapsed": false,
    "pycharm": {
     "name": "#%% md\n"
    }
   }
  },
  {
   "cell_type": "code",
   "execution_count": 10,
   "outputs": [],
   "source": [
    "nb = NaiveBayes()\n",
    "nb.train(train_datasets)"
   ],
   "metadata": {
    "collapsed": false,
    "pycharm": {
     "name": "#%%\n",
     "is_executing": false
    }
   }
  },
  {
   "cell_type": "markdown",
   "source": [
    "Generamos la matriz de confusión utilizando el dataset de prueba."
   ],
   "metadata": {
    "collapsed": false,
    "pycharm": {
     "name": "#%% md\n"
    }
   }
  },
  {
   "cell_type": "code",
   "execution_count": 11,
   "outputs": [
    {
     "name": "stdout",
     "text": [
      "                      Nacional  Ciencia y Tecnologia  Internacional  \\\nNacional                     9                     0              0   \nCiencia y Tecnologia         0                    20              0   \nInternacional                0                     0              5   \nDestacadas                  20                     3             19   \n\n                      Destacadas  \nNacional                       6  \nCiencia y Tecnologia           0  \nInternacional                  0  \nDestacadas                    16  \n"
     ],
     "output_type": "stream"
    }
   ],
   "source": [
    "res = confusion_matrix(nb, test_datasets)\n",
    "res_dic = {categories[i]: {categories[j]: res[i][j] for j in range(len(res[i]))} for i in range(len(res))}\n",
    "\n",
    "print(pd.DataFrame.from_dict(res_dic))"
   ],
   "metadata": {
    "collapsed": false,
    "pycharm": {
     "name": "#%%\n",
     "is_executing": false
    }
   }
  },
  {
   "cell_type": "markdown",
   "source": [
    "Calculamos métricas de evaluación."
   ],
   "metadata": {
    "collapsed": false,
    "pycharm": {
     "name": "#%% md\n"
    }
   }
  },
  {
   "cell_type": "code",
   "execution_count": 12,
   "outputs": [
    {
     "name": "stdout",
     "text": [
      "                      TP  FN  FP  TN  Accuracy  Precision  F1-Score   FP-Rate  \\\nNacional               9  20   6  89  0.473430   0.600000  1.166667  0.063158   \nCiencia y Tecnologia  20   3   0  78  0.547486   1.000000  1.600000  0.000000   \nInternacional          5  19   0  93  0.466667   1.000000  1.904762  0.000000   \nDestacadas            16   6  42  82  0.526882   0.275862  0.530806  0.338710   \n\n                       TP-Rate  \nNacional              0.310345  \nCiencia y Tecnologia  0.869565  \nInternacional         0.208333  \nDestacadas            0.727273  \n"
     ],
     "output_type": "stream"
    }
   ],
   "source": [
    "metrics_dic = get_metrics(res, categories)\n",
    "print(pd.DataFrame.from_dict(invert_dict(metrics_dic)))"
   ],
   "metadata": {
    "collapsed": false,
    "pycharm": {
     "name": "#%%\n",
     "is_executing": false
    }
   }
  },
  {
   "cell_type": "markdown",
   "source": [
    "Generamos un espacio ROC para graficar los resultados para cada categoria.\n",
    "Cada punto roc representa la cantidad de TP y FP sobre una categoria particular."
   ],
   "metadata": {
    "collapsed": false,
    "pycharm": {
     "name": "#%% md\n"
    }
   }
  },
  {
   "cell_type": "code",
   "execution_count": 13,
   "outputs": [
    {
     "data": {
      "text/plain": "<Figure size 432x288 with 1 Axes>",
      "image/png": "[encoded data removed]"
     },
     "metadata": {
      "needs_background": "light"
     },
     "output_type": "display_data"
    }
   ],
   "source": [
    "roc_curve(metrics_dic)"
   ],
   "metadata": {
    "collapsed": false,
    "pycharm": {
     "name": "#%%\n",
     "is_executing": false
    }
   }
  },
  {
   "cell_type": "markdown",
   "source": [
    "# Ejercicio 4"
   ],
   "metadata": {
    "collapsed": false,
    "pycharm": {
     "name": "#%% md\n"
    }
   }
  },
  {
   "cell_type": "markdown",
   "source": [
    "\\begin{equation*}\n",
    "P(admit = 0 | rank = 1) = \\frac{P(admit = 0, rank = 1)}{P(rank = 1)} = \\frac{\\sum_{i=0}^1\\sum_{j=0}^1 P(admit = 0, rank = 1, GPA = i, GRE = j)}{\\sum_{i=0}^1\\sum_{j=0}^1\\sum_{k=0}^1 P(admit = k, rank = 1, GPA = i, GRE = j)}\n",
    "\\end{equation*}"
   ],
   "metadata": {
    "collapsed": false,
    "pycharm": {
     "name": "#%% md\n"
    }
   }
  },
  {
   "cell_type": "markdown",
   "source": [
    "\\begin{equation*}Pa(x_i)\\end{equation*}\n",
    "\n",
    "son los nodos padres de \\begin{equation*} x_i \\end{equation*}\n",
    "\n",
    "\n",
    "\n",
    "La probabilidad conjunta se define como:\n",
    "\n",
    "\\begin{equation*}\n",
    "P(x_1, x_2, ... , x_n) = \\prod_{i = 1}^{n} P(x_i | Pa(x_i))\n",
    "\\end{equation*}\n"
   ],
   "metadata": {
    "collapsed": false
   }
  },
  {
   "cell_type": "markdown",
   "source": [
    "\n",
    "Por lo tanto, en este caso particular, sería:\n",
    "\n",
    "\\begin{equation*}\n",
    "P(admit, rank, GPA, GRE) = P(admit | rank, GPA, GRE) * P(GRE | rank) * P(GRA | rank) * P(rank)\n",
    "\\end{equation*}\n"
   ],
   "metadata": {
    "collapsed": false
   }
  },
  {
   "cell_type": "markdown",
   "source": [
    "\n",
    "Por ultimo, estimamos la probabilidad como en este ejemplo:\n",
    "\n",
    "\\begin{equation*}\n",
    "P(admit = 1 | rank = 0, GPA = 1, GRE =0) = \\frac{\\# (admit=1 \\& rank = 0 \\& GPA = 1 \\& GRE = 0)}{\\# (rank = 0 \\& GPA = 1 \\& GRE = 0)}\n",
    "\\end{equation*}\n",
    "\n",
    "Donde #(admit=1 & rank = 0 & GPA = 1 & GRE = 0) es el número de casos en los que se cumplen las cuatro condiciones."
   ],
   "metadata": {
    "collapsed": false,
    "pycharm": {
     "name": "#%% md\n"
    }
   }
  },
  {
   "cell_type": "markdown",
   "source": [
    "Importamos las librerias"
   ],
   "metadata": {
    "collapsed": false
   }
  },
  {
   "cell_type": "code",
   "source": [
    "from TP1.src.BayesNetwork import BayesNetwork\n",
    "import pandas as pd"
   ],
   "metadata": {
    "collapsed": false,
    "pycharm": {
     "name": "#%%\n",
     "is_executing": false
    }
   },
   "execution_count": 14,
   "outputs": []
  },
  {
   "cell_type": "markdown",
   "source": [
    "Leemos los datos y los discretizamos"
   ],
   "metadata": {
    "collapsed": false,
    "pycharm": {
     "name": "#%% md\n"
    }
   }
  },
  {
   "cell_type": "code",
   "source": [
    "data = pd.read_csv('../dataset/binary.csv')\n",
    "\n",
    "data['gre'] = (data['gre'] >= 500).astype(int)\n",
    "data['gpa'] = (data['gpa'] >= 3).astype(int)"
   ],
   "metadata": {
    "collapsed": false,
    "pycharm": {
     "name": "#%%\n",
     "is_executing": false
    }
   },
   "execution_count": 15,
   "outputs": []
  },
  {
   "cell_type": "markdown",
   "source": [
    "Creamos la red y calculamos las probabilidades"
   ],
   "metadata": {
    "collapsed": false,
    "pycharm": {
     "name": "#%% md\n",
     "is_executing": false
    }
   }
  },
  {
   "cell_type": "code",
   "source": [
    "bn = BayesNetwork(data, {'rank': [], 'gre': ['rank'], 'gpa': ['rank'], 'admit': ['gre', 'gpa', 'rank']}, {'rank': [1, 2, 3, 4], 'gre': [0, 1], 'gpa': [0, 1], 'admit': [0, 1]})\n",
    "\n",
    "print(\"P(admit = 0 | rank = 1) = \" + str(bn.conditional_probability({'admit': 0}, {'rank': 1})))\n",
    "print(\"P(admit = 1 | rank = 2, gre = 0, gpa = 1) = \" + str(bn.conditional_probability({'admit': 1}, {'rank': 2, 'gre': 0, 'gpa': 1})))"
   ],
   "metadata": {
    "collapsed": false,
    "pycharm": {
     "name": "#%%\n",
     "is_executing": false
    }
   },
   "execution_count": 16,
   "outputs": [
    {
     "name": "stdout",
     "text": [
      "P(admit = 0 | rank = 1) = 0.43213003213003215\nP(admit = 1 | rank = 2, gre = 0, gpa = 1) = 0.21739130434782605\n"
     ],
     "output_type": "stream"
    }
   ]
  },
  {
   "cell_type": "markdown",
   "source": [
    "# Codigo\n",
    "\n",
    "Probabilidad condicional\n",
    "\n",
    "    def conditional_probability(self, principal_condition, conditions):\n",
    "        all_conditions = dict(conditions)\n",
    "        all_conditions.update(principal_condition)\n",
    "        missing_nodes = [item for item in self.nodes if item not in all_conditions.keys()]\n",
    "        missing_nodes_2 = [item for item in self.nodes if item not in conditions.keys()]\n",
    "\n",
    "        return self.joint_sum(all_conditions, missing_nodes) / self.joint_sum(conditions, missing_nodes_2)\n",
    "\n",
    "Resolver la sumatoria\n",
    "\n",
    "    def joint_sum(self, conditions, missing_nodes):\n",
    "        if len(missing_nodes) == 0:\n",
    "            return self.joint_solver(conditions)\n",
    "\n",
    "        new_missing_nodes = copy.deepcopy(missing_nodes)\n",
    "        selected_missing = new_missing_nodes.pop()\n",
    "        result = 0\n",
    "        for value in self.node_values[selected_missing]:\n",
    "            new_conditions = copy.deepcopy(conditions)\n",
    "            new_conditions[selected_missing] = value\n",
    "            result += self.joint_sum(new_conditions, new_missing_nodes)\n",
    "\n",
    "        return result\n",
    "        \n",
    "Probabilida conjunta\n",
    "\n",
    "    def joint_solver(self, conditions):\n",
    "        result = 1\n",
    "        for condition in conditions:\n",
    "            denominador = self.data\n",
    "            if len(self.parents[condition]) == 0:\n",
    "                result *= (len(self.data[self.data[condition] == conditions[condition]]) + 1) / (len(self.data) + 1)\n",
    "            else:\n",
    "                for parent in self.parents[condition]:\n",
    "                    denominador = denominador[denominador[parent] == conditions[parent]]\n",
    "\n",
    "                nominador = denominador[denominador[condition] == conditions[condition]]\n",
    "                result *= (len(nominador) + 1) / (len(denominador) + 1)\n",
    "\n",
    "        return result"
   ],
   "metadata": {
    "collapsed": false,
    "pycharm": {
     "name": "#%% md\n"
    }
   }
  }
 ],
 "metadata": {
  "kernelspec": {
   "name": "python3",
   "language": "python",
   "display_name": "Python 3"
  },
  "language_info": {
   "codemirror_mode": {
    "name": "ipython",
    "version": 3
   },
   "file_extension": ".py",
   "mimetype": "text/x-python",
   "name": "python",
   "nbconvert_exporter": "python",
   "pygments_lexer": "ipython3",
   "version": "3.8.5"
  },
  "pycharm": {
   "stem_cell": {
    "cell_type": "raw",
    "source": [],
    "metadata": {
     "collapsed": false
    }
   }
  }
 },
 "nbformat": 4,
 "nbformat_minor": 1
}