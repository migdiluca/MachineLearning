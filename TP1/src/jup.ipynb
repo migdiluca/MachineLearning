{
 "cells": [
  {
   "cell_type": "markdown",
   "metadata": {
    "collapsed": true,
    "pycharm": {
     "name": "#%% md\n"
    }
   },
   "source": [
    "# Ejercicio 1\n",
    "\n",
    "La proporción de oyentes se compone por un 90% de viejos y 10% de jovenes.\n",
    "\n",
    "Tabla de probabilidades condicionadas ( P(Columna | Fila) ):\n",
    "\n",
    "| --- | Programa 1 | Programa 2 | Programa 3 | Programa 4 |\n",
    "| --- | --- | --- | --- | --- |\n",
    "| Joven | 0.95 | 0.05 | 0.02 | 0.2 |\n",
    "| Viejo | 0.03 | 0.82 | 0.34 | 0.92 |\n",
    "\n",
    "Representamos los eventos de la siguiente forma:\n",
    "- J: el oyente es joven\n",
    "- V: el oyente es viejo\n",
    "- Gi: al oyente le gusta el programa i\n",
    "***\n",
    "Queremos encontrar la probabilidad de que sea joven dado que le gustan los programas 1 y 3, y no le gustan los programas 2 y 4. Es decir:\n",
    "<br><br>\n",
    "P(J | G1, G3, !G2, !G4)\n",
    "<br><br>\n",
    "Por el teorema de Bayes obtenemos que:\n",
    "<br><br>\n",
    "P(J | G1, G3, !G2, !G4) = P(G1, G3, !G2, !G4 | J).P(J) / P(G1, G3, !G2, !G4)\n",
    "<br><br>\n",
    "Y si asumimos independencia condicionada entre sucesos y aplicando el teorema de probabilidad total en el denominador:\n",
    "<br><br>\n",
    "P(J | G1, G3, !G2, !G4) = P(G1|J).P(G3|J).P(!G2|J).P(!G4|J).P(J) / (P(G1, G3, !G2, !G4 | J).P(J) + P(G1, G3, !G2, !G4 | V).P(V))\n",
    "<br><br>\n",
    "Finalmente, utilizando los datos del enunciado:\n",
    "<br><br>\n",
    "P(J | G1, G3, !G2, !G4) = 0.92\n",
    "***\n",
    "Ahora queremos encontrar la probabilidad de que el oyente sea viejo dado los mismos gustos. Es decir:\n",
    "<br><br>\n",
    "P(V | G1, G3, !G2, !G4)\n",
    "<br><br>\n",
    "Considerando que el oyente o es viejo o es joven:\n",
    "<br><br>\n",
    "P(V | G1, G3, !G2, !G4) = P(!J | G1, G3, !G2, !G4) = 1 - P(J | G1, G3, !G2, !G4) = 0.08"
   ]
  },
  {
   "cell_type": "markdown",
   "source": [
    "# Ejercicio 2\n",
    "\n",
    "Importamos las librerias"
   ],
   "metadata": {
    "collapsed": false
   }
  },
  {
   "cell_type": "code",
   "execution_count": null,
   "outputs": [],
   "source": [
    "import pandas as pd\n",
    "from TP1.src.Ej2 import divide_by_nationality\n",
    "from TP1.src.NaiveBayes import NaiveBayes"
   ],
   "metadata": {
    "collapsed": false,
    "pycharm": {
     "name": "#%%\n"
    }
   }
  },
  {
   "cell_type": "markdown",
   "source": [
    "Leemos los datos y los dividimos por nacionalidad"
   ],
   "metadata": {
    "collapsed": false,
    "pycharm": {
     "name": "#%% md\n"
    }
   }
  },
  {
   "cell_type": "code",
   "execution_count": null,
   "outputs": [],
   "source": [
    "data = pd.read_excel('../PreferenciasBritanicos.xlsx', sheet_name='Hoja1', )\n",
    "\n",
    "britanicos = divide_by_nationality(data, 'I')\n",
    "escocesas = divide_by_nationality(data, 'E')\n",
    "\n",
    "datasets = [britanicos, escocesas]"
   ],
   "metadata": {
    "collapsed": false,
    "pycharm": {
     "name": "#%%\n"
    }
   }
  },
  {
   "cell_type": "markdown",
   "source": [
    "Entrenamos Bayes"
   ],
   "metadata": {
    "collapsed": false,
    "pycharm": {
     "name": "#%% md\n"
    }
   }
  },
  {
   "cell_type": "code",
   "execution_count": null,
   "outputs": [],
   "source": [
    "nb = NaiveBayes()\n",
    "nb.train(datasets)"
   ],
   "metadata": {
    "collapsed": false,
    "pycharm": {
     "name": "#%%\n"
    }
   }
  },
  {
   "cell_type": "markdown",
   "source": [
    "Buscamos la nacionalidad con las caracteristicas solicitadas"
   ],
   "metadata": {
    "collapsed": false,
    "pycharm": {
     "name": "#%% md\n"
    }
   }
  },
  {
   "cell_type": "code",
   "execution_count": null,
   "outputs": [],
   "source": [
    "category = nb.calculate_category([1, 0, 1, 1, 0])\n",
    "\n",
    "print(\"Es de Nacionalidad :\" + str(datasets[category]['Nacionalidad'].values[0]))"
   ],
   "metadata": {
    "collapsed": false,
    "pycharm": {
     "name": "#%%\n"
    }
   }
  },
  {
   "cell_type": "markdown",
   "metadata": {
    "pycharm": {
     "name": "#%% md\n"
    }
   },
   "source": [
    "# Ejercicio 3\n",
    "\n",
    "Importamos el dataset y librerias."
   ]
  },
  {
   "cell_type": "code",
   "execution_count": 2,
   "outputs": [],
   "source": [
    "from TP1.src.Ej3 import add_columns_from_text, get_categories, separate_in_categories, confusion_matrix, get_metrics, \\\n",
    "    invert_dict, roc_curve\n",
    "import pandas as pd\n",
    "from TP1.src.NaiveBayes import NaiveBayes\n",
    "\n",
    "df = pd.read_csv('../dataset/Noticias_argentinas.csv', nrows=1000)\n",
    "\n",
    "df = df[['titular', 'categoria']]"
   ],
   "metadata": {
    "collapsed": false,
    "pycharm": {
     "name": "#%%\n"
    }
   }
  },
  {
   "cell_type": "markdown",
   "source": [
    "A partir de los titulares generamos una matriz donde sus columnas son las palabras que se utilizaron\n",
    " para escribir todos los titulares del dataset. Es decir la union de los conjuntos de palabras utilizados para cada\n",
    " titular.\n",
    "\n",
    " Las filas de la matriz serán cada una de las noticias (igual que antes) y el valor que tomarán para cada\n",
    " columna será 1 si la palabra de la columna aparece en el titular de esta noticia y 0 en el caso de que no aparezca."
   ],
   "metadata": {
    "collapsed": false,
    "pycharm": {
     "name": "#%% md\n"
    }
   }
  },
  {
   "cell_type": "code",
   "execution_count": 3,
   "outputs": [
    {
     "name": "stdout",
     "output_type": "stream",
     "text": [
      "                                               titular categoria  \\\n",
      "0    Trabajadores del Buenos Aires Design cortan la...  Nacional   \n",
      "1    La boda del gobernador Gerardo Morales: tapas ...  Nacional   \n",
      "2    Cumbre del G20: qué calles estarán cortadas y ...  Nacional   \n",
      "3    Una fractura que confirma la candidatura de Cr...  Nacional   \n",
      "4    Infierno grande: ola de divorcios en un pueblo...  Nacional   \n",
      "..                                                 ...       ...   \n",
      "995  Que de la mano de Maradona, todos la vuelta va...  Deportes   \n",
      "996         El Halcón y el Pincha completan su partido  Deportes   \n",
      "997  El enojo de Lionel Scaloni con un periodista e...  Deportes   \n",
      "998          Los entrenadores de River con más títulos  Deportes   \n",
      "999  El fuerte mensaje de Migue Granados para fomen...     Salud   \n",
      "\n",
      "     trabajadores  del  buenos  aires  design  cortan  la  avenida  ...  \\\n",
      "0               1    1       1      1       1       1   1        1  ...   \n",
      "1               0    1       0      0       0       0   1        0  ...   \n",
      "2               0    1       0      0       0       0   0        0  ...   \n",
      "3               0    0       0      0       0       0   1        0  ...   \n",
      "4               0    0       0      0       0       0   0        0  ...   \n",
      "..            ...  ...     ...    ...     ...     ...  ..      ...  ...   \n",
      "995             0    0       0      0       0       0   1        0  ...   \n",
      "996             0    0       0      0       0       0   0        0  ...   \n",
      "997             0    0       0      0       0       0   0        0  ...   \n",
      "998             0    0       0      0       0       0   0        0  ...   \n",
      "999             0    1       0      0       0       0   1        0  ...   \n",
      "\n",
      "     volvieron  caer  mano  vuelta  vamos  dar'  halcón  pincha  completan  \\\n",
      "0            0     0     0       0      0      0       0       0          0   \n",
      "1            0     0     0       0      0      0       0       0          0   \n",
      "2            0     0     0       0      0      0       0       0          0   \n",
      "3            0     0     0       0      0      0       0       0          0   \n",
      "4            0     0     0       0      0      0       0       0          0   \n",
      "..         ...   ...   ...     ...    ...    ...     ...     ...        ...   \n",
      "995          0     0     1       1      1      1       0       0          0   \n",
      "996          0     0     0       0      0      0       1       1          1   \n",
      "997          0     0     0       0      0      0       0       0          0   \n",
      "998          0     0     0       0      0      0       0       0          0   \n",
      "999          0     0     0       0      0      0       0       0          0   \n",
      "\n",
      "     entrenadores  \n",
      "0               0  \n",
      "1               0  \n",
      "2               0  \n",
      "3               0  \n",
      "4               0  \n",
      "..            ...  \n",
      "995             0  \n",
      "996             0  \n",
      "997             0  \n",
      "998             1  \n",
      "999             0  \n",
      "\n",
      "[1000 rows x 3225 columns]\n"
     ]
    }
   ],
   "source": [
    "\n",
    "df = add_columns_from_text(df)\n",
    "print(df)"
   ],
   "metadata": {
    "collapsed": false,
    "pycharm": {
     "name": "#%%\n"
    }
   }
  },
  {
   "cell_type": "markdown",
   "source": [
    "Obtenemos las 4 categorias que vamos a clasificar."
   ],
   "metadata": {
    "collapsed": false,
    "pycharm": {
     "name": "#%% md\n"
    }
   }
  },
  {
   "cell_type": "code",
   "execution_count": null,
   "outputs": [],
   "source": [
    "categories = get_categories(df)[0:4]"
   ],
   "metadata": {
    "collapsed": false,
    "pycharm": {
     "name": "#%%\n",
     "is_executing": false
    }
   }
  },
  {
   "cell_type": "markdown",
   "source": [
    "Separamos el dataset en training y test data."
   ],
   "metadata": {
    "collapsed": false,
    "pycharm": {
     "name": "#%% md\n"
    }
   }
  },
  {
   "cell_type": "code",
   "source": [
    "train = df.sample(frac=0.8)\n",
    "test = df.drop(train.index)"
   ],
   "metadata": {
    "collapsed": false,
    "pycharm": {
     "name": "#%%\n",
     "is_executing": false
    }
   },
   "execution_count": null,
   "outputs": []
  },
  {
   "cell_type": "markdown",
   "source": [
    "Particionamos los dataframes en categorias y luego eliminamos las columnas innecesarias."
   ],
   "metadata": {
    "collapsed": false,
    "pycharm": {
     "name": "#%% md\n"
    }
   }
  },
  {
   "cell_type": "code",
   "execution_count": null,
   "outputs": [],
   "source": [
    "train_datasets = separate_in_categories(train, categories)\n",
    "test_datasets = separate_in_categories(test, categories)\n",
    "\n",
    "train_datasets = [df.drop(columns=['titular', 'categoria']) for df in train_datasets]\n",
    "test_datasets = [df.drop(columns=['titular', 'categoria']) for df in test_datasets]"
   ],
   "metadata": {
    "collapsed": false,
    "pycharm": {
     "name": "#%%\n",
     "is_executing": false
    }
   }
  },
  {
   "cell_type": "markdown",
   "source": [
    "Creamos una instancia de nuestra implementación de Naive Bayes y entrenamos con nuestro dataset de entrenamiento."
   ],
   "metadata": {
    "collapsed": false,
    "pycharm": {
     "name": "#%% md\n"
    }
   }
  },
  {
   "cell_type": "code",
   "execution_count": null,
   "outputs": [],
   "source": [
    "nb = NaiveBayes()\n",
    "nb.train(train_datasets)"
   ],
   "metadata": {
    "collapsed": false,
    "pycharm": {
     "name": "#%%\n",
     "is_executing": false
    }
   }
  },
  {
   "cell_type": "markdown",
   "source": [
    "Generamos la matriz de confusión utilizando el dataset de prueba."
   ],
   "metadata": {
    "collapsed": false,
    "pycharm": {
     "name": "#%% md\n"
    }
   }
  },
  {
   "cell_type": "code",
   "execution_count": null,
   "outputs": [],
   "source": [
    "res = confusion_matrix(nb, test_datasets)\n",
    "res_dic = {categories[i]: {categories[j]: res[i][j] for j in range(len(res[i]))} for i in range(len(res))}\n",
    "\n",
    "print(pd.DataFrame.from_dict(res_dic))"
   ],
   "metadata": {
    "collapsed": false,
    "pycharm": {
     "name": "#%%\n",
     "is_executing": false
    }
   }
  },
  {
   "cell_type": "markdown",
   "source": [
    "Calculamos métricas de evaluación."
   ],
   "metadata": {
    "collapsed": false,
    "pycharm": {
     "name": "#%% md\n"
    }
   }
  },
  {
   "cell_type": "code",
   "execution_count": null,
   "outputs": [],
   "source": [
    "metrics_dic = get_metrics(res, categories)\n",
    "print(pd.DataFrame.from_dict(invert_dict(metrics_dic)))"
   ],
   "metadata": {
    "collapsed": false,
    "pycharm": {
     "name": "#%%\n",
     "is_executing": false
    }
   }
  },
  {
   "cell_type": "markdown",
   "source": [
    "Generamos un espacio ROC para graficar los resultados para cada categoria.\n",
    "Cada punto roc representa la cantidad de TP y FP sobre una categoria particular."
   ],
   "metadata": {
    "collapsed": false,
    "pycharm": {
     "name": "#%% md\n"
    }
   }
  },
  {
   "cell_type": "code",
   "execution_count": null,
   "outputs": [],
   "source": [
    "roc_curve(metrics_dic)"
   ],
   "metadata": {
    "collapsed": false,
    "pycharm": {
     "name": "#%%\n",
     "is_executing": false
    }
   }
  },
  {
   "cell_type": "markdown",
   "source": [
    "# Ejercicio 4\n",
    "\n",
    "Importamos las librerias"
   ],
   "metadata": {
    "collapsed": false,
    "pycharm": {
     "name": "#%% md\n"
    }
   }
  },
  {
   "cell_type": "code",
   "execution_count": null,
   "outputs": [],
   "source": [
    "from TP1.src.BayesNetwork import BayesNetwork\n",
    "import pandas as pd"
   ],
   "metadata": {
    "collapsed": false,
    "pycharm": {
     "name": "#%%\n"
    }
   }
  },
  {
   "cell_type": "markdown",
   "source": [
    "Leemos los datos y los discretizamos"
   ],
   "metadata": {
    "collapsed": false
   }
  },
  {
   "cell_type": "code",
   "execution_count": null,
   "outputs": [],
   "source": [
    "data = pd.read_csv('../dataset/binary.csv')\n",
    "\n",
    "data['gre'] = (data['gre'] >= 500).astype(int)\n",
    "data['gpa'] = (data['gpa'] >= 3).astype(int)"
   ],
   "metadata": {
    "collapsed": false,
    "pycharm": {
     "name": "#%%\n"
    }
   }
  },
  {
   "cell_type": "markdown",
   "source": [
    "Creamos la red y calculamos las probabilidades"
   ],
   "metadata": {
    "collapsed": false
   }
  },
  {
   "cell_type": "code",
   "execution_count": null,
   "outputs": [],
   "source": [
    "bn = BayesNetwork(data, {'rank': [], 'gre': ['rank'], 'gpa': ['rank'], 'admit': ['gre', 'gpa', 'rank']}, {'rank': [1, 2, 3, 4], 'gre': [0, 1], 'gpa': [0, 1], 'admit': [0, 1]})\n",
    "\n",
    "print(\"P(admit = 0 | rank = 1) = \" + str(bn.conditional_probability({'admit': 0}, {'rank': 1})))\n",
    "print(\"P(admit = 1 | rank = 2, gre = 0, gpa = 1) = \" + str(bn.conditional_probability({'admit': 1}, {'rank': 2, 'gre': 0, 'gpa': 1})))"
   ],
   "metadata": {
    "collapsed": false,
    "pycharm": {
     "name": "#%%\n"
    }
   }
  },
  {
   "cell_type": "markdown",
   "source": [],
   "metadata": {
    "collapsed": false
   }
  },
  {
   "cell_type": "code",
   "execution_count": null,
   "outputs": [],
   "source": [],
   "metadata": {
    "collapsed": false,
    "pycharm": {
     "name": "#%%\n",
     "is_executing": false
    }
   }
  },
  {
   "cell_type": "markdown",
   "source": [
    "Leemos los datos y los discretizamos"
   ],
   "metadata": {
    "collapsed": false
   }
  },
  {
   "cell_type": "code",
   "execution_count": null,
   "outputs": [],
   "source": [
    "data = pd.read_csv('../dataset/binary.csv')\n",
    "\n",
    "data['gre'] = (data['gre'] >= 500).astype(int)\n",
    "data['gpa'] = (data['gpa'] >= 3).astype(int)"
   ],
   "metadata": {
    "collapsed": false,
    "pycharm": {
     "name": "#%%\n",
     "is_executing": false
    }
   }
  },
  {
   "cell_type": "markdown",
   "source": [
    "Creamos la red y calculamos las probabilidades"
   ],
   "metadata": {
    "collapsed": false,
    "pycharm": {
     "name": "#%% md\n"
    }
   }
  },
  {
   "cell_type": "code",
   "execution_count": null,
   "outputs": [],
   "source": [
    "bn = BayesNetwork(data, {'rank': [], 'gre': ['rank'], 'gpa': ['rank'], 'admit': ['gre', 'gpa', 'rank']}, {'rank': [1, 2, 3, 4], 'gre': [0, 1], 'gpa': [0, 1], 'admit': [0, 1]})\n",
    "\n",
    "print(\"P(admit = 0 | rank = 1) = \" + str(bn.conditional_probability({'admit': 0}, {'rank': 1})))\n",
    "print(\"P(admit = 1 | rank = 2, gre = 0, gpa = 1) = \" + str(bn.conditional_probability({'admit': 1}, {'rank': 2, 'gre': 0, 'gpa': 1})))"
   ],
   "metadata": {
    "collapsed": false,
    "pycharm": {
     "name": "#%%\n",
     "is_executing": false
    }
   }
  },
  {
   "cell_type": "markdown",
   "source": [],
   "metadata": {
    "collapsed": false,
    "pycharm": {
     "name": "#%% md\n"
    }
   }
  }
 ],
 "metadata": {
  "kernelspec": {
   "name": "python3",
   "language": "python",
   "display_name": "Python 3"
  },
  "language_info": {
   "codemirror_mode": {
    "name": "ipython",
    "version": 3
   },
   "file_extension": ".py",
   "mimetype": "text/x-python",
   "name": "python",
   "nbconvert_exporter": "python",
   "pygments_lexer": "ipython3",
   "version": "3.8.5"
  }
 },
 "nbformat": 4,
 "nbformat_minor": 1
}