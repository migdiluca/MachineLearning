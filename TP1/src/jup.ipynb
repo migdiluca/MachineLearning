{
 "cells": [
  {
   "cell_type": "markdown",
   "metadata": {
    "collapsed": true,
    "pycharm": {
     "name": "#%% md\n"
    }
   },
   "source": [
    "# Ejercicio 1\n",
    "\n",
    "Gi: guste el programa i, J: es joven, V: es viejo\n",
    "\n",
    "P(J|G1,G3,~G2,~G4) (1)= P(G1,G3,~G2,~G4|J).P(J) / P(G1,G3,~G2,~G4)\n",
    "(2)= P(G1|J).P(G2|J).P(~G3|J).P(~G4|J).P(J) / P(G1).P(G2).P(~G3).P(~G4) = 0.18\n",
    "(1): Teorema de bayes, (2): Asumimos independencia de sucesos\n",
    "\n",
    "P(V|G1,G3,~G2,~G4) = 1 - P(J|G1,G3,~G2,~G4) = 0.82"
   ]
  },
  {
   "cell_type": "markdown",
   "metadata": {
    "pycharm": {
     "name": "#%% md\n"
    }
   },
   "source": [
    "# Ejercicio 3\n",
    "\n",
    "Importamos el dataset y librerias."
   ]
  },
  {
   "cell_type": "code",
   "execution_count": 1,
   "outputs": [],
   "source": [
    "from TP1.src.Ej3 import add_columns_from_text, get_categories, separate_in_categories, confusion_matrix, get_metrics, \\\n",
    "    invert_dict, roc_curve\n",
    "import pandas as pd\n",
    "from TP1.src.NaiveBayes import NaiveBayes\n",
    "\n",
    "df = pd.read_csv('../dataset/Noticias_argentinas.csv', nrows=1000)\n",
    "\n",
    "df = df[['titular', 'categoria']]"
   ],
   "metadata": {
    "collapsed": false,
    "pycharm": {
     "name": "#%%\n"
    }
   }
  },
  {
   "cell_type": "markdown",
   "source": [
    "Agregamos una columna por palabra que aparece en algun titual y para cada fila indicamos con 1 si pertenece al titular y con 0 si no pertenece."
   ],
   "metadata": {
    "collapsed": false
   }
  },
  {
   "cell_type": "code",
   "execution_count": null,
   "outputs": [],
   "source": [
    "\n",
    "df = add_columns_from_text(df)"
   ],
   "metadata": {
    "collapsed": false,
    "pycharm": {
     "name": "#%%\n",
     "is_executing": true
    }
   }
  },
  {
   "cell_type": "markdown",
   "source": [
    "Obtenemos las 4 categorias que vamos a clasificar."
   ],
   "metadata": {
    "collapsed": false
   }
  },
  {
   "cell_type": "code",
   "execution_count": null,
   "outputs": [],
   "source": [
    "categories = get_categories(df)[0:4]"
   ],
   "metadata": {
    "collapsed": false,
    "pycharm": {
     "name": "#%%\n",
     "is_executing": true
    }
   }
  },
  {
   "cell_type": "markdown",
   "source": [
    "Separamos el dataset en training y test data."
   ],
   "metadata": {
    "collapsed": false,
    "pycharm": {
     "name": "#%% md\n"
    }
   }
  },
  {
   "cell_type": "code",
   "source": [
    "train = df.sample(frac=0.8)\n",
    "test = df.drop(train.index)"
   ],
   "metadata": {
    "collapsed": false,
    "pycharm": {
     "name": "#%%\n",
     "is_executing": true
    }
   },
   "execution_count": null,
   "outputs": []
  },
  {
   "cell_type": "markdown",
   "source": [
    "Particionamos los dataframes en categorias y luego eliminamos las columnas innecesarias."
   ],
   "metadata": {
    "collapsed": false
   }
  },
  {
   "cell_type": "code",
   "execution_count": null,
   "outputs": [],
   "source": [
    "train_datasets = separate_in_categories(train, categories)\n",
    "test_datasets = separate_in_categories(test, categories)\n",
    "\n",
    "train_datasets = [df.drop(columns=['titular', 'categoria']) for df in train_datasets]\n",
    "test_datasets = [df.drop(columns=['titular', 'categoria']) for df in test_datasets]"
   ],
   "metadata": {
    "collapsed": false,
    "pycharm": {
     "name": "#%%\n",
     "is_executing": true
    }
   }
  },
  {
   "cell_type": "markdown",
   "source": [
    "Creamos una instancia de nuestra implementación de Naive Bayes y entrenamos con nuestro dataset de entrenamiento."
   ],
   "metadata": {
    "collapsed": false
   }
  },
  {
   "cell_type": "code",
   "execution_count": null,
   "outputs": [],
   "source": [
    "nb = NaiveBayes()\n",
    "nb.train(train_datasets)"
   ],
   "metadata": {
    "collapsed": false,
    "pycharm": {
     "name": "#%%\n",
     "is_executing": true
    }
   }
  },
  {
   "cell_type": "markdown",
   "source": [
    "Generamos la matriz de confusión utilizando el dataset de prueba."
   ],
   "metadata": {
    "collapsed": false
   }
  },
  {
   "cell_type": "code",
   "execution_count": null,
   "outputs": [],
   "source": [
    "res = confusion_matrix(nb, test_datasets)\n",
    "res_dic = {categories[i]: {categories[j]: res[i][j] for j in range(len(res[i]))} for i in range(len(res))}\n",
    "\n",
    "print(pd.DataFrame.from_dict(res_dic))"
   ],
   "metadata": {
    "collapsed": false,
    "pycharm": {
     "name": "#%%\n",
     "is_executing": true
    }
   }
  },
  {
   "cell_type": "markdown",
   "source": [
    "Calculamos métricas de evaluación."
   ],
   "metadata": {
    "collapsed": false
   }
  },
  {
   "cell_type": "code",
   "execution_count": null,
   "outputs": [],
   "source": [
    "metrics_dic = get_metrics(res, categories)\n",
    "print(pd.DataFrame.from_dict(invert_dict(metrics_dic)))"
   ],
   "metadata": {
    "collapsed": false,
    "pycharm": {
     "name": "#%%\n",
     "is_executing": true
    }
   }
  },
  {
   "cell_type": "markdown",
   "source": [
    "Generamos un espacio ROC para graficar los resultados para cada categoria."
   ],
   "metadata": {
    "collapsed": false
   }
  },
  {
   "cell_type": "code",
   "execution_count": null,
   "outputs": [],
   "source": [
    "roc_curve(metrics_dic)"
   ],
   "metadata": {
    "collapsed": false,
    "pycharm": {
     "name": "#%%\n",
     "is_executing": true
    }
   }
  },
  {
   "cell_type": "markdown",
   "source": [
    "# Ejercicio 4\n",
    "\n",
    "Importamos las librerias y creamos una red"
   ],
   "metadata": {
    "collapsed": false
   }
  },
  {
   "cell_type": "code",
   "execution_count": null,
   "outputs": [],
   "source": [
    "from TP1.src.BayesNetwork import BayesNetwork\n",
    "\n",
    "bn = BayesNetwork()"
   ],
   "metadata": {
    "collapsed": false,
    "pycharm": {
     "name": "#%%\n"
    }
   }
  },
  {
   "cell_type": "markdown",
   "source": [
    "Calculamos las probabilidades"
   ],
   "metadata": {
    "collapsed": false,
    "pycharm": {
     "name": "#%% md\n"
    }
   }
  },
  {
   "cell_type": "code",
   "execution_count": null,
   "outputs": [],
   "source": [
    "print(\"P(admit = 0 | rank = 1) = \" + str(bn.conditional_probability({'admit': 0}, {'rank': 1})))\n",
    "print(\"P(admit = 1 | rank = 2, gre = 0, gpa = 1) = \" + str(bn.conditional_probability({'admit': 1}, {'rank': 2, 'gre': 0, 'gpa': 1})))"
   ],
   "metadata": {
    "collapsed": false,
    "pycharm": {
     "name": "#%%\n"
    }
   }
  }
 ],
 "metadata": {
  "kernelspec": {
   "name": "pycharm-fdf09aa3",
   "language": "python",
   "display_name": "PyCharm (MachineLearning)"
  },
  "language_info": {
   "codemirror_mode": {
    "name": "ipython",
    "version": 3
   },
   "file_extension": ".py",
   "mimetype": "text/x-python",
   "name": "python",
   "nbconvert_exporter": "python",
   "pygments_lexer": "ipython3",
   "version": "3.8.5"
  },
  "pycharm": {
   "stem_cell": {
    "cell_type": "raw",
    "source": [],
    "metadata": {
     "collapsed": false
    }
   }
  }
 },
 "nbformat": 4,
 "nbformat_minor": 1
}