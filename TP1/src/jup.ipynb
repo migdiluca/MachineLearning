{
 "cells": [
  {
   "cell_type": "markdown",
   "metadata": {
    "collapsed": true,
    "pycharm": {
     "name": "#%% md\n"
    }
   },
   "source": [
    "# Ejercicio 1\n",
    "\n",
    "Gi: guste el programa i, J: es joven, V: es viejo\n",
    "\n",
    "P(J|G1,G3,~G2,~G4) (1)= P(G1,G3,~G2,~G4|J).P(J) / P(G1,G3,~G2,~G4)\n",
    "(2)= P(G1|J).P(G2|J).P(~G3|J).P(~G4|J).P(J) / P(G1).P(G2).P(~G3).P(~G4) = 0.18\n",
    "(1): Teorema de bayes, (2): Asumimos independencia de sucesos\n",
    "\n",
    "P(V|G1,G3,~G2,~G4) = 1 - P(J|G1,G3,~G2,~G4) = 0.82"
   ]
  },
  {
   "cell_type": "code",
   "execution_count": 1,
   "metadata": {
    "pycharm": {
     "is_executing": false,
     "name": "#%%\n"
    }
   },
   "outputs": [
    {
     "name": "stdout",
     "output_type": "stream",
     "text": [
      "asdadsadssds\n"
     ]
    }
   ],
   "source": [
    "print(\"asdadsadssu8oiyqwegd8972q1ghd87012dds\")"
   ]
  },
  {
   "cell_type": "markdown",
   "metadata": {},
   "source": [
    "\n",
    "SADasd"
   ]
  },
  {
   "cell_type": "raw",
   "metadata": {},
   "source": [
    "\n"
   ]
  }
 ],
 "metadata": {
  "kernelspec": {
   "display_name": "Python 3",
   "language": "python",
   "name": "python3"
  },
  "language_info": {
   "codemirror_mode": {
    "name": "ipython",
    "version": 3
   },
   "file_extension": ".py",
   "mimetype": "text/x-python",
   "name": "python",
   "nbconvert_exporter": "python",
   "pygments_lexer": "ipython3",
   "version": "3.8.5"
  }
 },
 "nbformat": 4,
 "nbformat_minor": 1
}